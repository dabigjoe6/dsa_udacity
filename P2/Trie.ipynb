{
 "cells": [
  {
   "cell_type": "markdown",
   "metadata": {},
   "source": [
    "# Building a Trie in Python\n",
    "\n",
    "Before we start let us reiterate the key components of a Trie or Prefix Tree. A trie is a tree-like data structure that stores a dynamic set of strings. Tries are commonly used to facilitate operations like predictive text or autocomplete features on mobile phones or web search.\n",
    "\n",
    "Before we move into the autocomplete function we need to create a working trie for storing strings.  We will create two classes:\n",
    "* A `Trie` class that contains the root node (empty string)\n",
    "* A `TrieNode` class that exposes the general functionality of the Trie, like inserting a word or finding the node which represents a prefix.\n",
    "\n",
    "Give it a try by implementing the `TrieNode` and `Trie` classes below!"
   ]
  },
  {
   "cell_type": "code",
   "execution_count": null,
   "metadata": {
    "collapsed": true
   },
   "outputs": [],
   "source": [
    "## Represents a single node in the Trie\n",
    "class TrieNode:\n",
    "    def __init__(self):\n",
    "        ## Initialize this node in the Trie\n",
    "        self.isWord = false\n",
    "        self.children = {}\n",
    "    \n",
    "    def insert(self, char):\n",
    "        ## Add a child node in this Trie\n",
    "        self.children[char] = TrieNode()\n",
    "        \n",
    "        \n",
    "## The Trie itself containing the root node and insert/find functions\n",
    "class Trie:\n",
    "    def __init__(self):\n",
    "        ## Initialize this Trie (add a root node)\n",
    "        self.root = TrieNode()\n",
    "\n",
    "    def insert(self, word):\n",
    "        ## Add a word to the Trie\n",
    "        currentNode = self.root\n",
    "        \n",
    "        for char in word:\n",
    "            if char not in currentNode.children:\n",
    "                currentNode.insert(char)\n",
    "            else:\n",
    "                currentNode = current.children[char]\n",
    "                \n",
    "        currentNode.isWord = true        \n",
    "\n",
    "    def find(self, prefix):\n",
    "        ## Find the Trie node that represents this prefix\n",
    "        \n",
    "        currentNode = self.root\n",
    "        \n",
    "        for char in prefix:\n",
    "            if char not in currentNode.children[char]:\n",
    "                return False\n",
    "            else:\n",
    "                return currentNode\n"
   ]
  },
  {
   "cell_type": "markdown",
   "metadata": {},
   "source": [
    "# Finding Suffixes\n",
    "\n",
    "Now that we have a functioning Trie, we need to add the ability to list suffixes to implement our autocomplete feature.  To do that, we need to implement a new function on the `TrieNode` object that will return all complete word suffixes that exist below it in the trie.  For example, if our Trie contains the words `[\"fun\", \"function\", \"factory\"]` and we ask for suffixes from the `f` node, we would expect to receive `[\"un\", \"unction\", \"actory\"]` back from `node.suffixes()`.\n",
    "\n",
    "Using the code you wrote for the `TrieNode` above, try to add the suffixes function below. (Hint: recurse down the trie, collecting suffixes as you go.)"
   ]
  },
  {
   "cell_type": "code",
   "execution_count": 3,
   "metadata": {},
   "outputs": [],
   "source": [
    "class TrieNode:\n",
    "    def __init__(self):\n",
    "        ## Initialize this node in the Trie\n",
    "        self.isWord = false\n",
    "        self.children = {}\n",
    "    \n",
    "    def insert(self, char):\n",
    "        ## Add a child node in this Trie\n",
    "        self.children[char] = TrieNode()\n",
    "        \n",
    "    def suffixes(self, suffix = ''):\n",
    "        ## Recursive function that collects the suffix for \n",
    "        ## all complete words below this point\n",
    "        def suffixes_helper(node, char = ''):\n",
    "            if node.isWord == true:\n",
    "                yield char\n",
    "            \n",
    "            for child in node.children:\n",
    "                char += child\n",
    "                suffixes_helper(node.children[child], char)\n",
    "                \n",
    "                                \n",
    "        \n"
   ]
  },
  {
   "cell_type": "markdown",
   "metadata": {},
   "source": [
    "# Testing it all out\n",
    "\n",
    "Run the following code to add some words to your trie and then use the interactive search box to see what your code returns."
   ]
  },
  {
   "cell_type": "code",
   "execution_count": 7,
   "metadata": {},
   "outputs": [
    {
     "ename": "NameError",
     "evalue": "name 'Trie' is not defined",
     "output_type": "error",
     "traceback": [
      "\u001b[0;31m---------------------------------------------------------------------------\u001b[0m",
      "\u001b[0;31mNameError\u001b[0m                                 Traceback (most recent call last)",
      "\u001b[0;32m<ipython-input-7-d56ec950baf3>\u001b[0m in \u001b[0;36m<module>\u001b[0;34m()\u001b[0m\n\u001b[0;32m----> 1\u001b[0;31m \u001b[0mMyTrie\u001b[0m \u001b[0;34m=\u001b[0m \u001b[0mTrie\u001b[0m\u001b[0;34m(\u001b[0m\u001b[0;34m)\u001b[0m\u001b[0;34m\u001b[0m\u001b[0m\n\u001b[0m\u001b[1;32m      2\u001b[0m wordList = [\n\u001b[1;32m      3\u001b[0m     \u001b[0;34m\"ant\"\u001b[0m\u001b[0;34m,\u001b[0m \u001b[0;34m\"anthology\"\u001b[0m\u001b[0;34m,\u001b[0m \u001b[0;34m\"antagonist\"\u001b[0m\u001b[0;34m,\u001b[0m \u001b[0;34m\"antonym\"\u001b[0m\u001b[0;34m,\u001b[0m\u001b[0;34m\u001b[0m\u001b[0m\n\u001b[1;32m      4\u001b[0m     \u001b[0;34m\"fun\"\u001b[0m\u001b[0;34m,\u001b[0m \u001b[0;34m\"function\"\u001b[0m\u001b[0;34m,\u001b[0m \u001b[0;34m\"factory\"\u001b[0m\u001b[0;34m,\u001b[0m\u001b[0;34m\u001b[0m\u001b[0m\n\u001b[1;32m      5\u001b[0m     \u001b[0;34m\"trie\"\u001b[0m\u001b[0;34m,\u001b[0m \u001b[0;34m\"trigger\"\u001b[0m\u001b[0;34m,\u001b[0m \u001b[0;34m\"trigonometry\"\u001b[0m\u001b[0;34m,\u001b[0m \u001b[0;34m\"tripod\"\u001b[0m\u001b[0;34m\u001b[0m\u001b[0m\n",
      "\u001b[0;31mNameError\u001b[0m: name 'Trie' is not defined"
     ]
    }
   ],
   "source": [
    "MyTrie = Trie()\n",
    "wordList = [\n",
    "    \"ant\", \"anthology\", \"antagonist\", \"antonym\", \n",
    "    \"fun\", \"function\", \"factory\", \n",
    "    \"trie\", \"trigger\", \"trigonometry\", \"tripod\"\n",
    "]\n",
    "for word in wordList:\n",
    "    MyTrie.insert(word)"
   ]
  },
  {
   "cell_type": "code",
   "execution_count": 15,
   "metadata": {},
   "outputs": [
    {
     "data": {
      "application/vnd.jupyter.widget-view+json": {
       "model_id": "677953bffeb9416e871a54e0e0f15be5",
       "version_major": 2,
       "version_minor": 0
      },
      "text/html": [
       "<p>Failed to display Jupyter Widget of type <code>interactive</code>.</p>\n",
       "<p>\n",
       "  If you're reading this message in the Jupyter Notebook or JupyterLab Notebook, it may mean\n",
       "  that the widgets JavaScript is still loading. If this message persists, it\n",
       "  likely means that the widgets JavaScript library is either not installed or\n",
       "  not enabled. See the <a href=\"https://ipywidgets.readthedocs.io/en/stable/user_install.html\">Jupyter\n",
       "  Widgets Documentation</a> for setup instructions.\n",
       "</p>\n",
       "<p>\n",
       "  If you're reading this message in another frontend (for example, a static\n",
       "  rendering on GitHub or <a href=\"https://nbviewer.jupyter.org/\">NBViewer</a>),\n",
       "  it may mean that your frontend doesn't currently support widgets.\n",
       "</p>\n"
      ],
      "text/plain": [
       "interactive(children=(Text(value='', description='prefix'), Output()), _dom_classes=('widget-interact',))"
      ]
     },
     "metadata": {},
     "output_type": "display_data"
    }
   ],
   "source": [
    "from ipywidgets import widgets\n",
    "from IPython.display import display\n",
    "from ipywidgets import interact\n",
    "\n",
    "## Represents a single node in the Trie\n",
    "class TrieNode:\n",
    "\tdef __init__(self):\n",
    "\t\t## Initialize this node in the Trie\n",
    "\t\tself.isWord = False\n",
    "\t\tself.children = {}\n",
    "\t\n",
    "\tdef insert(self, char):\n",
    "\t\t## Add a child node in this Trie\n",
    "\t\tself.children[char] = TrieNode()\n",
    "\n",
    "\tdef suffixes(self, suffix = ''):\n",
    "\t\t## Recursive function that collects the suffix for \n",
    "\t\t## all complete words below this point\n",
    "\t\tdef suffixes_helper(node, char = '', result = []):\n",
    "\t\t\tif node.isWord == True:\n",
    "\t\t\t\tresult.append(char)\n",
    "\t\t\t\n",
    "\t\t\tfor child in node.children:\n",
    "\t\t\t\tchar += child\n",
    "\t\t\t\tsuffixes_helper(node.children[child], char)\n",
    "\n",
    "\t\t\treturn result\n",
    "\t\t\n",
    "\t\treturn suffixes_helper(self)\n",
    "\t\t\n",
    "\t\t\n",
    "## The Trie itself containing the root node and insert/find functions\n",
    "class Trie:\n",
    "\tdef __init__(self):\n",
    "\t\t## Initialize this Trie (add a root node)\n",
    "\t\tself.root = TrieNode()\n",
    "\n",
    "\tdef insert(self, word):\n",
    "\t\t## Add a word to the Trie\n",
    "\t\tcurrentNode = self.root\n",
    "\t\t\n",
    "\t\tfor char in word:\n",
    "\t\t\tif char not in currentNode.children:\n",
    "\t\t\t\tcurrentNode.insert(char)\n",
    "\t\t\t\tcurrentNode = currentNode.children[char]\n",
    "\t\t\telse:\n",
    "\t\t\t\tcurrentNode = currentNode.children[char]\n",
    "\t\t\t\t\n",
    "\t\tcurrentNode.isWord = True        \n",
    "\n",
    "\tdef find(self, prefix):\n",
    "\t\t## Find the Trie node that represents this prefix\n",
    "\t\t\n",
    "\t\tcurrentNode = self.root\n",
    "\t\t\n",
    "\t\tfor char in prefix:\n",
    "\t\t\tif not char in currentNode.children:\n",
    "\t\t\t\treturn False\n",
    "\t\t\telse:\n",
    "\t\t\t\tcurrentNode = currentNode.children[char]\n",
    "\t\treturn currentNode\n",
    "\n",
    "\t\n",
    "MyTrie = Trie()\n",
    "wordList = [\n",
    "\t\"ant\", \"anthology\", \"antagonist\", \"antonym\", \n",
    "\t\"fun\", \"function\", \"factory\", \n",
    "\t\"trie\", \"trigger\", \"trigonometry\", \"tripod\"\n",
    "]\n",
    "\n",
    "for word in wordList:\n",
    "\tMyTrie.insert(word)\n",
    "\n",
    "\n",
    "def f(prefix):\n",
    "    if prefix != '':\n",
    "        prefixNode = MyTrie.find(prefix)\n",
    "        if prefixNode:\n",
    "            print('\\n'.join(prefixNode.suffixes()))\n",
    "        else:\n",
    "            print(prefix + \" not found\")\n",
    "    else:\n",
    "        print('')\n",
    "interact(f,prefix='');"
   ]
  },
  {
   "cell_type": "code",
   "execution_count": null,
   "metadata": {},
   "outputs": [],
   "source": []
  }
 ],
 "metadata": {
  "kernelspec": {
   "display_name": "Python 3",
   "language": "python",
   "name": "python3"
  },
  "language_info": {
   "codemirror_mode": {
    "name": "ipython",
    "version": 3
   },
   "file_extension": ".py",
   "mimetype": "text/x-python",
   "name": "python",
   "nbconvert_exporter": "python",
   "pygments_lexer": "ipython3",
   "version": "3.6.3"
  },
  "widgets": {
   "state": {},
   "version": "1.1.2"
  }
 },
 "nbformat": 4,
 "nbformat_minor": 2
}
